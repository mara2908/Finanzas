{
  "nbformat": 4,
  "nbformat_minor": 0,
  "metadata": {
    "colab": {
      "provenance": []
    },
    "kernelspec": {
      "name": "python3",
      "display_name": "Python 3"
    },
    "language_info": {
      "name": "python"
    }
  },
  "cells": [
    {
      "cell_type": "markdown",
      "source": [
        "#Tarea # 2 \n",
        "###Hecho por: María Paula Lizarazo Espinosa"
      ],
      "metadata": {
        "id": "uPdsd3gyOHa1"
      }
    },
    {
      "cell_type": "markdown",
      "source": [
        "1. Problema de asignación de recursos productivos:\n",
        "\n",
        "Una empresa produce cuatro bienes diferentes y en cantidades diferentes: las cantidades producidas diariamente de los cuatro productos son x1, x2, x3, x4. Si la ganancia por unidad de cada uno es 20,12, 40y25, respectivamente, encuentre la cantidad de producción total (diaria) que maximiza las ganancias para la empresa, teniendo en cuenta las siguientes condiciones:\n",
        "\n",
        "La mano de obra contrada solo permite producir un número máximo de unidades por día de cincuenta (50).\n",
        "\n",
        "Por cada unidad producida de cada uno se requieren las siguientes cantidades de materia prima A y de materia prima B: para el primer producto se necesitan solo tres (3) unidades de materia prima A; para el segundo producto requieren dos (2) unidades de la materia prima A y una (1) unidad de la materia prima B; para el tercer producto necesita una (1) unidad de materia prima A y dos (2) unidades de B. Finalmente, para el cuarto producto se requieren solo tres (3) unidades de materia prima B.\n",
        "\n",
        "Debido a la disponibilidad de transporte y almacenamiento en bodega, solo se pueden disponer diariamente cien (100) unidades de la materia prima A y noventa (90) unidades de B.\n",
        "\n",
        "Formular y resolver el problema de optimización."
      ],
      "metadata": {
        "id": "qOhgBSbjOdap"
      }
    },
    {
      "cell_type": "code",
      "execution_count": 1,
      "metadata": {
        "id": "uIdGoKP4OFwE"
      },
      "outputs": [],
      "source": [
        "import numpy as np\n",
        "import pandas as pd\n",
        "import matplotlib.pyplot as plt\n",
        "from scipy.optimize import minimize\n",
        "from scipy.optimize import linprog"
      ]
    },
    {
      "cell_type": "code",
      "source": [
        "# Parametros de la función objetivo, en este caso es el retorno\n",
        "c = np.array([20,12,40,25])\n",
        "\n",
        "# Restricciones de desigualdad, esa matriz queda con los coeficientes de las restricciones\n",
        "D = np.array([[1,1,1,1],[3, 2,1,0],[0,1,2,3]])\n",
        "d = np.array([50,100,90])\n",
        "\n",
        "# Solución del problema\n",
        "tarea = linprog(-c, A_ub=D, b_ub=d,method=\"simplex\") #Si yo le pongo , method=\"simplex\", me da aproximaciones más exactas.\n",
        "tarea"
      ],
      "metadata": {
        "colab": {
          "base_uri": "https://localhost:8080/"
        },
        "id": "LJlcsoqXOpIl",
        "outputId": "26864308-4b1d-4e78-9848-8c798faea3d1"
      },
      "execution_count": 2,
      "outputs": [
        {
          "output_type": "execute_result",
          "data": {
            "text/plain": [
              "     con: array([], dtype=float64)\n",
              "     fun: -1899.9999999999998\n",
              " message: 'Optimization terminated successfully.'\n",
              "     nit: 4\n",
              "   slack: array([0.00000000e+00, 4.00000000e+01, 1.42108547e-14])\n",
              "  status: 0\n",
              " success: True\n",
              "       x: array([ 5.,  0., 45.,  0.])"
            ]
          },
          "metadata": {},
          "execution_count": 2
        }
      ]
    }
  ]
}